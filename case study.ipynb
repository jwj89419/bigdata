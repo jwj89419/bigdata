{
  "nbformat": 4,
  "nbformat_minor": 0,
  "metadata": {
    "colab": {
      "provenance": [],
      "authorship_tag": "ABX9TyPdzDz69ObRPoYy/OeZWE3l",
      "include_colab_link": true
    },
    "kernelspec": {
      "name": "python3",
      "display_name": "Python 3"
    },
    "language_info": {
      "name": "python"
    }
  },
  "cells": [
    {
      "cell_type": "markdown",
      "metadata": {
        "id": "view-in-github",
        "colab_type": "text"
      },
      "source": [
        "<a href=\"https://colab.research.google.com/github/jwj89419/bigdata/blob/main/case%20study.ipynb\" target=\"_parent\"><img src=\"https://colab.research.google.com/assets/colab-badge.svg\" alt=\"Open In Colab\"/></a>"
      ]
    },
    {
      "cell_type": "code",
      "source": [
        "!wget \"https://raw.githubusercontent.com/Kiran-255666/AdventureWorks/main/Adventureworks/Address.csv\"\n",
        "!wget \"https://raw.githubusercontent.com/Kiran-255666/AdventureWorks/main/Adventureworks/Customer.csv\"\n",
        "!wget \"https://raw.githubusercontent.com/Kiran-255666/AdventureWorks/main/Adventureworks/CustomerAddress.csv\"\n"
      ],
      "metadata": {
        "id": "M6ycrlxRkZga"
      },
      "execution_count": null,
      "outputs": []
    },
    {
      "cell_type": "code",
      "source": [
        "!pip install pyspark"
      ],
      "metadata": {
        "colab": {
          "base_uri": "https://localhost:8080/"
        },
        "id": "rhoxpQToIxee",
        "outputId": "aacaef26-8d0b-4585-b8a2-78670298861a"
      },
      "execution_count": 20,
      "outputs": [
        {
          "output_type": "stream",
          "name": "stdout",
          "text": [
            "Requirement already satisfied: pyspark in /usr/local/lib/python3.10/dist-packages (3.5.1)\n",
            "Requirement already satisfied: py4j==0.10.9.7 in /usr/local/lib/python3.10/dist-packages (from pyspark) (0.10.9.7)\n"
          ]
        }
      ]
    },
    {
      "cell_type": "code",
      "source": [
        "from pyspark.sql import SparkSession\n",
        "from pyspark.sql.functions import count, desc , col, max, struct\n",
        "import matplotlib.pyplot as plts"
      ],
      "metadata": {
        "id": "QOi4Ep9PJJXL"
      },
      "execution_count": 21,
      "outputs": []
    },
    {
      "cell_type": "code",
      "source": [
        "spark = SparkSession.builder.appName('spark_app').getOrCreate()"
      ],
      "metadata": {
        "id": "FbIVklHwJOiu"
      },
      "execution_count": 22,
      "outputs": []
    },
    {
      "cell_type": "code",
      "source": [
        "listenings_csv_path = 'Address.csv'\n",
        "listening_df = spark.read.format('csv').option('inferSchema', True).option('header', True).load(listenings_csv_path)"
      ],
      "metadata": {
        "id": "NAMQJmHZJa8-"
      },
      "execution_count": 23,
      "outputs": []
    },
    {
      "cell_type": "code",
      "source": [
        "\n",
        "listening_df.show()"
      ],
      "metadata": {
        "colab": {
          "base_uri": "https://localhost:8080/"
        },
        "id": "2WpA2kzwKArd",
        "outputId": "1ce8d07e-4b15-4d38-d761-73979998fc5a"
      },
      "execution_count": 24,
      "outputs": [
        {
          "output_type": "stream",
          "name": "stdout",
          "text": [
            "+---------+--------------------+------------+-----------+----------------+-------------+----------+--------------------+------------+\n",
            "|AddressID|        AddressLine1|AddressLine2|       City|   StateProvince|CountryRegion|PostalCode|             rowguid|ModifiedDate|\n",
            "+---------+--------------------+------------+-----------+----------------+-------------+----------+--------------------+------------+\n",
            "|        9|   8713 Yosemite Ct.|        NULL|    Bothell|      Washington|United States|     98011|268AF621-76D7-4C7...|     00:00.0|\n",
            "|       11| 1318 Lasalle Street|        NULL|    Bothell|      Washington|United States|     98011|981B3303-ACA2-49C...|     00:00.0|\n",
            "|       25|    9178 Jumping St.|        NULL|     Dallas|           Texas|United States|     75201|C8DF3BD9-48F0-465...|     00:00.0|\n",
            "|       28|    9228 Via Del Sol|        NULL|    Phoenix|         Arizona|United States|     85004|12AE5EE1-FC3E-468...|     00:00.0|\n",
            "|       32|   26910 Indela Road|        NULL|   Montreal|          Quebec|       Canada|   H1Y 2H5|84A95F62-3AE8-4E7...|     00:00.0|\n",
            "|      185|     2681 Eagle Peak|        NULL|   Bellevue|      Washington|United States|     98004|7BCCF442-2268-46C...|     00:00.0|\n",
            "|      297|     7943 Walnut Ave|        NULL|     Renton|      Washington|United States|     98055|52410DA4-2778-4B1...|     00:00.0|\n",
            "|      445|  6388 Lake City Way|        NULL|    Burnaby|British Columbia|       Canada|   V5A 3A6|53572F25-9133-4A8...|     00:00.0|\n",
            "|      446|   52560 Free Street|        NULL|    Toronto|         Ontario|       Canada|   M4B 1V7|801A1DFC-5125-486...|     00:00.0|\n",
            "|      447|   22580 Free Street|        NULL|    Toronto|         Ontario|       Canada|   M4B 1V7|88CEE379-DBB8-433...|     00:00.0|\n",
            "|      448|2575 Bloor Street...|        NULL|    Toronto|         Ontario|       Canada|   M4B 1V6|2DF6D0AD-0926-4F3...|     00:00.0|\n",
            "|      449|           Station E|        NULL|Chalk Riber|         Ontario|       Canada|   K0J 1J0|8B5A7729-CB75-430...|     00:00.0|\n",
            "|      450|   575 Rue St Amable|        NULL|     Quebec|          Quebec|       Canada|       G1R|5F3C345A-6475-41D...|     00:00.0|\n",
            "|      451|     2512-4th Ave Sw|        NULL|    Calgary|         Alberta|       Canada|   T2P 2G8|49644F1E-6F90-46D...|     00:00.0|\n",
            "|      452|55 Lakeshore Blvd...|        NULL|    Toronto|         Ontario|       Canada|   M4B 1V6|A358652F-0E00-49E...|     00:00.0|\n",
            "|      453|     6333 Cote Vertu|        NULL|   Montreal|          Quebec|       Canada|   H1Y 2H7|355681F2-4D9D-452...|     00:00.0|\n",
            "|      454|3255 Front Street...|        NULL|    Toronto|         Ontario|       Canada|   M4B 1V6|EF4DC57D-8B8B-407...|     00:00.0|\n",
            "|      455|   2550 Signet Drive|        NULL|     Weston|         Ontario|       Canada|   M9V 4W3|43D582CF-E95F-486...|     00:00.0|\n",
            "|      456|       6777 Kingsway|        NULL|    Burnaby|British Columbia|       Canada|   V5H 3Z7|2F3B383E-08A5-407...|     00:00.0|\n",
            "|      457| 5250-505 Burning St|        NULL|  Vancouver|British Columbia|       Canada|   V7L 4J4|93F02C61-783D-4F0...|     00:00.0|\n",
            "+---------+--------------------+------------+-----------+----------------+-------------+----------+--------------------+------------+\n",
            "only showing top 20 rows\n",
            "\n"
          ]
        }
      ]
    },
    {
      "cell_type": "code",
      "source": [
        "listening_df = listening_df.na.drop()"
      ],
      "metadata": {
        "id": "ITXctnLzKSDN"
      },
      "execution_count": 25,
      "outputs": []
    },
    {
      "cell_type": "code",
      "source": [
        "country_counts = listening_df.select('CountryRegion').groupBy('CountryRegion').count()\n",
        "country_counts.show()"
      ],
      "metadata": {
        "colab": {
          "base_uri": "https://localhost:8080/"
        },
        "id": "J8zuPznoLSM4",
        "outputId": "919e58ec-d725-4bb7-85d6-b1f0b76ef52b"
      },
      "execution_count": 27,
      "outputs": [
        {
          "output_type": "stream",
          "name": "stdout",
          "text": [
            "+--------------+-----+\n",
            "| CountryRegion|count|\n",
            "+--------------+-----+\n",
            "| United States|  295|\n",
            "|        Canada|  115|\n",
            "|United Kingdom|   40|\n",
            "+--------------+-----+\n",
            "\n"
          ]
        }
      ]
    },
    {
      "cell_type": "code",
      "source": [
        "q9_list = country_counts.collect()\n",
        "print(q9_list)"
      ],
      "metadata": {
        "colab": {
          "base_uri": "https://localhost:8080/"
        },
        "id": "oyT1LcV7NkGe",
        "outputId": "1e06013a-5174-4da2-94d8-9af0ce9ab9f0"
      },
      "execution_count": 28,
      "outputs": [
        {
          "output_type": "stream",
          "name": "stdout",
          "text": [
            "[Row(CountryRegion='United States', count=295), Row(CountryRegion='Canada', count=115), Row(CountryRegion='United Kingdom', count=40)]\n"
          ]
        }
      ]
    },
    {
      "cell_type": "code",
      "source": [
        "labels = [row['CountryRegion'] for row in q9_list]\n",
        "counts = [row['count'] for row in q9_list]\n",
        "\n",
        "\n",
        "print(labels)\n",
        "print(counts)"
      ],
      "metadata": {
        "colab": {
          "base_uri": "https://localhost:8080/"
        },
        "id": "G2YBQdabNsaF",
        "outputId": "8da43240-b236-4b94-ea99-8d5e00ae701f"
      },
      "execution_count": 31,
      "outputs": [
        {
          "output_type": "stream",
          "name": "stdout",
          "text": [
            "['United States', 'Canada', 'United Kingdom']\n",
            "[295, 115, 40]\n"
          ]
        }
      ]
    },
    {
      "cell_type": "code",
      "source": [
        "plts.bar(labels, counts)"
      ],
      "metadata": {
        "colab": {
          "base_uri": "https://localhost:8080/",
          "height": 447
        },
        "id": "SZx_0Cp8N_g5",
        "outputId": "c82684b3-00db-44be-edc6-4665757b0037"
      },
      "execution_count": 32,
      "outputs": [
        {
          "output_type": "execute_result",
          "data": {
            "text/plain": [
              "<BarContainer object of 3 artists>"
            ]
          },
          "metadata": {},
          "execution_count": 32
        },
        {
          "output_type": "display_data",
          "data": {
            "text/plain": [
              "<Figure size 640x480 with 1 Axes>"
            ],
            "image/png": "[encoded data removed]"
          },
          "metadata": {}
        }
      ]
    }
  ]
}